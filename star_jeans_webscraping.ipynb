{
 "cells": [
  {
   "cell_type": "markdown",
   "id": "e787df1a",
   "metadata": {},
   "source": [
    "# Star Jeans Analysis Project Using Webscraping"
   ]
  },
  {
   "cell_type": "markdown",
   "id": "da8c5493",
   "metadata": {},
   "source": [
    " - Quetão de negócio\n",
    " \n",
    "A empresa Star Jeans! Eduardo e Marcelo são dois brasileiros, amigos e sócios de empreendimento. Depois de vários negócio bem sucedidos, eles estão planejando entrar no mercado de moda dos USA como um modelo de negócio do tipo E-commerce.\n",
    " \n",
    "A idéia inicial é entrar no mercado com apenas um produto e para um público específico, no caso o produto seria calças Jeans para o público masculino. O objetivo é manter o custo de operação baixo e escalar a medida que forem conseguindo clientes.\n",
    "\n",
    "Porém, mesmo com o produto de entrada e a audiência definidos, os dois sócios não tem experiência nesse mercado de moda e portanto não sabem definir coisas básicas como preço, o tipo de calça e o material para a fabricação de cada peça.\n",
    "\n",
    "Assim, os dois sócios contrataram uma consultoria de Ciência de Dados para responder as seguinte perguntas: \n",
    "\n",
    "1. Qual o melhor preço de venda para as calças? \n",
    "2. Quantos tipos de calças e suas cores para o produto inicial? \n",
    "3. Quais as matérias-prima necessárias para confeccionar as calças?\n",
    "\n",
    "As principais concorrentes da empresa Start Jeans são as americadas H&M e Macys."
   ]
  },
  {
   "cell_type": "code",
   "execution_count": 1,
   "id": "c74169f3",
   "metadata": {
    "ExecuteTime": {
     "end_time": "2023-05-25T16:05:07.721115Z",
     "start_time": "2023-05-25T16:05:06.458694Z"
    }
   },
   "outputs": [],
   "source": [
    "import requests\n",
    "from bs4 import BeautifulSoup\n",
    "import pandas as pd\n",
    "import numpy as np\n",
    "from datetime import datetime\n",
    "import re\n"
   ]
  },
  {
   "cell_type": "code",
   "execution_count": 2,
   "id": "4ccae806",
   "metadata": {
    "ExecuteTime": {
     "end_time": "2023-05-25T16:05:08.561863Z",
     "start_time": "2023-05-25T16:05:07.722925Z"
    }
   },
   "outputs": [],
   "source": [
    "url = 'https://www2.hm.com/en_us/men/products/jeans.html'\n",
    "\n",
    "headers = {'User-Agent': 'Mozilla/5.0 (Windows NT 10.0; Win64; x64) AppleWebKit/537.36 (KHTML, like Gecko) Chrome/108.0.0.0 Safari/537.36'}\n",
    "page = requests.get (url, headers=headers)"
   ]
  },
  {
   "cell_type": "code",
   "execution_count": 3,
   "id": "7a179f6a",
   "metadata": {
    "ExecuteTime": {
     "end_time": "2023-05-25T16:05:08.747548Z",
     "start_time": "2023-05-25T16:05:08.569272Z"
    }
   },
   "outputs": [],
   "source": [
    "soup = BeautifulSoup (page.text, 'html.parser')"
   ]
  },
  {
   "cell_type": "code",
   "execution_count": 4,
   "id": "901dc574",
   "metadata": {
    "ExecuteTime": {
     "end_time": "2023-05-25T16:05:08.762570Z",
     "start_time": "2023-05-25T16:05:08.748969Z"
    }
   },
   "outputs": [
    {
     "data": {
      "text/plain": [
       "'93'"
      ]
     },
     "execution_count": 4,
     "metadata": {},
     "output_type": "execute_result"
    }
   ],
   "source": [
    "total_item = soup.find_all ('h2', class_='load-more-heading')[0].get('data-total')\n",
    "total_item"
   ]
  },
  {
   "cell_type": "code",
   "execution_count": 5,
   "id": "04135b36",
   "metadata": {
    "ExecuteTime": {
     "end_time": "2023-05-25T16:05:08.768438Z",
     "start_time": "2023-05-25T16:05:08.764529Z"
    }
   },
   "outputs": [
    {
     "data": {
      "text/plain": [
       "3.0"
      ]
     },
     "execution_count": 5,
     "metadata": {},
     "output_type": "execute_result"
    }
   ],
   "source": [
    "page_number = np.ceil(int(total_item)/36)\n",
    "page_number"
   ]
  },
  {
   "cell_type": "code",
   "execution_count": 6,
   "id": "ef7fccf8",
   "metadata": {
    "ExecuteTime": {
     "end_time": "2023-05-25T16:05:08.773049Z",
     "start_time": "2023-05-25T16:05:08.770225Z"
    }
   },
   "outputs": [],
   "source": [
    "url02 = url + '?page-size=' + str(int(page_number*36))"
   ]
  },
  {
   "cell_type": "code",
   "execution_count": 7,
   "id": "836ec765",
   "metadata": {
    "ExecuteTime": {
     "end_time": "2023-05-25T16:05:08.783900Z",
     "start_time": "2023-05-25T16:05:08.774515Z"
    }
   },
   "outputs": [],
   "source": [
    "products = soup.find('ul', class_='products-listing small')"
   ]
  },
  {
   "cell_type": "code",
   "execution_count": 8,
   "id": "881fd4df",
   "metadata": {
    "ExecuteTime": {
     "end_time": "2023-05-25T16:05:08.791833Z",
     "start_time": "2023-05-25T16:05:08.786115Z"
    }
   },
   "outputs": [],
   "source": [
    "# product id\n",
    "product_list = products.find_all ('article', class_='hm-product-item')\n",
    "product_id = [p.get('data-articlecode') for p in product_list]\n",
    "\n",
    "# product category\n",
    "product_category = [p.get('data-category') for p in product_list]"
   ]
  },
  {
   "cell_type": "code",
   "execution_count": 9,
   "id": "bd3d4fb1",
   "metadata": {
    "ExecuteTime": {
     "end_time": "2023-05-25T16:05:08.802352Z",
     "start_time": "2023-05-25T16:05:08.796651Z"
    }
   },
   "outputs": [],
   "source": [
    "# product name\n",
    "product_list = products.find_all ('a', class_='link')\n",
    "product_name = [p.get_text() for p in product_list]"
   ]
  },
  {
   "cell_type": "code",
   "execution_count": 10,
   "id": "c1e85826",
   "metadata": {
    "ExecuteTime": {
     "end_time": "2023-05-25T16:05:08.809176Z",
     "start_time": "2023-05-25T16:05:08.804240Z"
    }
   },
   "outputs": [],
   "source": [
    "# product price\n",
    "product_list = products.find_all ('span', class_='price regular')\n",
    "product_price = [p.get_text() for p in product_list]\n",
    "\n"
   ]
  },
  {
   "cell_type": "code",
   "execution_count": 11,
   "id": "a0c5e4ae",
   "metadata": {
    "ExecuteTime": {
     "end_time": "2023-05-25T16:05:08.821154Z",
     "start_time": "2023-05-25T16:05:08.810987Z"
    }
   },
   "outputs": [],
   "source": [
    "data = pd.DataFrame([product_id, product_category, product_name, product_price]).T\n",
    "data.columns = ['product_id', 'product_category', 'product_name', 'product_price']\n",
    "\n",
    "# Scrapy Datetime \n",
    "data['scrapy_datetime'] = datetime.now().strftime('%Y-%m-%d %H:%M:%S:')"
   ]
  },
  {
   "cell_type": "markdown",
   "id": "9e36c2f5",
   "metadata": {
    "ExecuteTime": {
     "end_time": "2022-12-21T17:41:03.708327Z",
     "start_time": "2022-12-21T17:41:03.704311Z"
    }
   },
   "source": [
    "## One Product Details"
   ]
  },
  {
   "cell_type": "code",
   "execution_count": 12,
   "id": "5ab1ab07",
   "metadata": {
    "ExecuteTime": {
     "end_time": "2023-05-25T16:05:09.181329Z",
     "start_time": "2023-05-25T16:05:08.822920Z"
    }
   },
   "outputs": [],
   "source": [
    "url = 'https://www2.hm.com/en_us/productpage.1024256001.html'\n",
    "\n",
    "headers = {'User-Agent': 'Mozilla/5.0 (Windows NT 10.0; Win64; x64) AppleWebKit/537.36 (KHTML, like Gecko) Chrome/108.0.0.0 Safari/537.36'}\n",
    "page = requests.get (url, headers=headers)"
   ]
  },
  {
   "cell_type": "code",
   "execution_count": 13,
   "id": "7b94f977",
   "metadata": {
    "ExecuteTime": {
     "end_time": "2023-05-25T16:05:09.279406Z",
     "start_time": "2023-05-25T16:05:09.185838Z"
    }
   },
   "outputs": [],
   "source": [
    "soup = BeautifulSoup(page.text, 'html.parser')"
   ]
  },
  {
   "cell_type": "code",
   "execution_count": 14,
   "id": "3d6e5bec",
   "metadata": {
    "ExecuteTime": {
     "end_time": "2023-05-25T16:05:09.293659Z",
     "start_time": "2023-05-25T16:05:09.281116Z"
    }
   },
   "outputs": [],
   "source": [
    "# Color Name \n",
    "product_list = soup.find_all('a', class_='filter-option miniature')\n",
    "color_name = [p.get('data-color') for p in product_list]\n",
    "\n",
    "# Product Id \n",
    "product_id = [p.get('data-articlecode') for p in product_list]\n",
    "\n",
    "df_color = pd.DataFrame([product_id, color_name]).T\n",
    "df_color.columns = ['product_id', 'color_name']\n",
    "\n",
    "# Generate style id + color id \n",
    "df_color['style_id'] = df_color['product_id'].apply(lambda x: x[:-3])\n",
    "df_color['color_id'] = df_color['product_id'].apply(lambda x: x[-3:])"
   ]
  },
  {
   "cell_type": "code",
   "execution_count": 15,
   "id": "01b00883",
   "metadata": {
    "ExecuteTime": {
     "end_time": "2023-05-25T16:05:09.319413Z",
     "start_time": "2023-05-25T16:05:09.295487Z"
    },
    "code_folding": []
   },
   "outputs": [],
   "source": [
    "# Composition\n",
    "product_composition_list = soup.find_all('div', class_='details-attributes-list-item')\n",
    "product_composition = [list(filter(None, p.get_text().split('\\n'))) for p in product_composition_list]\n",
    "\n",
    "# Rename Dataframe\n",
    "df_composition = pd.DataFrame(product_composition).T\n",
    "df_composition.columns = df_composition.iloc[0]\n",
    "\n",
    "# Delete first row \n",
    "df_composition = df_composition.iloc[1:].fillna(method='ffill')\n",
    "\n",
    "# Generate style id + color id \n",
    "df_composition['style_id'] = df_composition['Art. No.'].apply(lambda x: x[:-3])\n",
    "df_composition['color_id'] = df_composition['Art. No.'].apply(lambda x: x[-3:])\n",
    "\n",
    "# Merge Data color + composition \n",
    "\n",
    "data_sku = pd.merge(df_color, df_composition[['style_id', 'Fit', 'Composition']], how='left', on='style_id')"
   ]
  },
  {
   "cell_type": "markdown",
   "id": "04d86647",
   "metadata": {},
   "source": [
    "### Multiple Products Details"
   ]
  },
  {
   "cell_type": "code",
   "execution_count": 16,
   "id": "68fe3da6",
   "metadata": {
    "ExecuteTime": {
     "end_time": "2023-05-25T16:05:41.964954Z",
     "start_time": "2023-05-25T16:05:09.321553Z"
    }
   },
   "outputs": [],
   "source": [
    "headers = {'User-Agent': 'Mozilla/5.0 (Windows NT 10.0; Win64; x64) AppleWebKit/537.36 (KHTML, like Gecko) Chrome/108.0.0.0 Safari/537.36'}\n",
    "\n",
    "# Empty dataframe\n",
    "df_details = pd.DataFrame()\n",
    "\n",
    "# Unique columns for all products \n",
    "aux = []\n",
    "\n",
    "cols = ['Art. No.', 'Composition', 'Fit', 'Product safety', 'Size'] \n",
    "df_pattern = pd.DataFrame( columns=cols )\n",
    "\n",
    "for i in range(len(data)):\n",
    "    # API Requests\n",
    "    url = 'https://www2.hm.com/en_us/productpage.' + data.loc[i, 'product_id'] + '.html'\n",
    "    page = requests.get (url, headers=headers)\n",
    "    \n",
    "    soup = BeautifulSoup(page.text, 'html.parser')\n",
    "     \n",
    "    # Color Name \n",
    "    product_list = soup.find_all('a', class_='filter-option miniature')\n",
    "    color_name = [p.get('data-color') for p in product_list]\n",
    "\n",
    "    # Product Id \n",
    "    product_id = [p.get('data-articlecode') for p in product_list]\n",
    "\n",
    "    df_color = pd.DataFrame([product_id, color_name]).T\n",
    "    df_color.columns = ['product_id', 'color_name']\n",
    "\n",
    "    # Generate style id + color id \n",
    "    df_color['style_id'] = df_color['product_id'].apply(lambda x: x[:-3])\n",
    "    df_color['color_id'] = df_color['product_id'].apply(lambda x: x[-3:])\n",
    "    \n",
    "    # Composition\n",
    "    product_composition_list = soup.find_all('div', class_='details-attributes-list-item')\n",
    "    product_composition = [list(filter(None, p.get_text().split('\\n'))) for p in product_composition_list]\n",
    "\n",
    "    # Rename Dataframe\n",
    "    df_composition = pd.DataFrame(product_composition).T\n",
    "    df_composition.columns = df_composition.iloc[0]\n",
    "\n",
    "    # Delete first row \n",
    "    df_composition = df_composition.iloc[1:].fillna(method='ffill')\n",
    "    \n",
    "    # garantee the same number of columns\n",
    "    df_composition = pd.concat( [df_pattern, df_composition], axis=0 )\n",
    "\n",
    "    # Generate style id + color id \n",
    "    df_composition['style_id'] = df_composition['Art. No.'].apply(lambda x: x[:-3])\n",
    "    df_composition['color_id'] = df_composition['Art. No.'].apply(lambda x: x[-3:])\n",
    "\n",
    "    # Merge Data color + composition \n",
    "    data_sku = pd.merge(df_color, df_composition[['style_id', 'Fit', 'Composition', 'Size', 'Product safety']], how='left', on='style_id')\n",
    "    \n",
    "    # All details products\n",
    "    df_details = pd.concat([df_details, data_sku], axis = 0)\n",
    "    \n",
    "# Join Showroom data + details\n",
    "data['style_id'] = data['product_id'].apply( lambda x: x[:-3] )\n",
    "data['color_id'] = data['product_id'].apply( lambda x: x[-3:] )\n",
    "    \n",
    "df = pd.merge( data, df_details[['style_id', 'color_name', 'Fit', 'Composition', 'Size', 'Product safety']],\n",
    "                    how='left', on='style_id' )"
   ]
  },
  {
   "cell_type": "markdown",
   "id": "30f404da",
   "metadata": {},
   "source": [
    "## Data Cleaning"
   ]
  },
  {
   "cell_type": "code",
   "execution_count": 17,
   "id": "f6d3f972",
   "metadata": {
    "ExecuteTime": {
     "end_time": "2023-05-25T16:05:42.017442Z",
     "start_time": "2023-05-25T16:05:41.966636Z"
    }
   },
   "outputs": [],
   "source": [
    "# Removendo os 'NA' da coluna product_id e mudando o tipo para int\n",
    "df = df.dropna (subset=['product_id'])\n",
    "df['product_id'] = df['product_id'].astype(int)\n",
    "\n",
    "# Colocando no padrão a coluna 'product_name'\n",
    "df['product_name'] = df['product_name'].apply(lambda x: x.replace(' ', '_').lower())\n",
    "\n",
    "# Tirando o '$ ' da coluna product_price e mudando para tipo float\n",
    "df['product_price'] = df['product_price'].apply(lambda x: x.replace('$ ','')).astype(float)\n",
    "\n",
    "# style id para int\n",
    "df['style_id'] = df['style_id'].astype( int )\n",
    "\n",
    "# color id para int\n",
    "df['color_id'] = df['color_id'].astype( int )\n",
    "\n",
    "# Colocando no padrão a coluna 'color_name'\n",
    "df['color_name'] = df['color_name'].apply(lambda x: x.replace(' ', '_').lower())\n",
    "\n",
    "# Colocando no padrão a coluna 'fit'\n",
    "df['Fit'] = df['Fit'].apply(lambda x: x.replace(' ', '_').lower())\n",
    "\n",
    "# size number\n",
    "df['size_number'] = df['Size'].apply( lambda x: re.search( '\\d{2}.\\d{1}.cm.', x ).group(0) if pd.notnull( x ) else x )\n",
    "\n",
    "# deixar somente os numeros retirando os 'cm'\n",
    "df['size_number'] = df['size_number'].apply( lambda x: re.search( '\\d+', x).group(0) if pd.notnull( x ) else x )\n",
    "\n",
    "# Size Model \n",
    "df['size_model'] = df['Size'].str.extract('(\\d+/\\\\d+)')\n",
    "\n",
    "# Removendo a coluna size\n",
    "df = df.drop(columns=['Size'], axis=1)\n",
    "\n",
    "# Removendo a coluna Product Safety\n",
    "df = df.drop(columns=['Product safety'], axis=1)"
   ]
  },
  {
   "cell_type": "code",
   "execution_count": 18,
   "id": "7d455ad1",
   "metadata": {
    "ExecuteTime": {
     "end_time": "2023-05-25T16:05:42.035593Z",
     "start_time": "2023-05-25T16:05:42.019196Z"
    }
   },
   "outputs": [
    {
     "data": {
      "text/html": [
       "<div>\n",
       "<style scoped>\n",
       "    .dataframe tbody tr th:only-of-type {\n",
       "        vertical-align: middle;\n",
       "    }\n",
       "\n",
       "    .dataframe tbody tr th {\n",
       "        vertical-align: top;\n",
       "    }\n",
       "\n",
       "    .dataframe thead th {\n",
       "        text-align: right;\n",
       "    }\n",
       "</style>\n",
       "<table border=\"1\" class=\"dataframe\">\n",
       "  <thead>\n",
       "    <tr style=\"text-align: right;\">\n",
       "      <th></th>\n",
       "      <th>product_id</th>\n",
       "      <th>product_category</th>\n",
       "      <th>product_name</th>\n",
       "      <th>product_price</th>\n",
       "      <th>scrapy_datetime</th>\n",
       "      <th>style_id</th>\n",
       "      <th>color_id</th>\n",
       "      <th>color_name</th>\n",
       "      <th>Fit</th>\n",
       "      <th>Composition</th>\n",
       "      <th>size_number</th>\n",
       "      <th>size_model</th>\n",
       "    </tr>\n",
       "  </thead>\n",
       "  <tbody>\n",
       "    <tr>\n",
       "      <th>0</th>\n",
       "      <td>1024256006</td>\n",
       "      <td>men_jeans_slim</td>\n",
       "      <td>slim_jeans</td>\n",
       "      <td>24.99</td>\n",
       "      <td>2023-05-25 13:05:08:</td>\n",
       "      <td>1024256</td>\n",
       "      <td>6</td>\n",
       "      <td>black</td>\n",
       "      <td>slim_fit</td>\n",
       "      <td>Shell: Cotton 99%, Spandex 1%</td>\n",
       "      <td>NaN</td>\n",
       "      <td>NaN</td>\n",
       "    </tr>\n",
       "    <tr>\n",
       "      <th>1</th>\n",
       "      <td>1024256006</td>\n",
       "      <td>men_jeans_slim</td>\n",
       "      <td>slim_jeans</td>\n",
       "      <td>24.99</td>\n",
       "      <td>2023-05-25 13:05:08:</td>\n",
       "      <td>1024256</td>\n",
       "      <td>6</td>\n",
       "      <td>black</td>\n",
       "      <td>slim_fit</td>\n",
       "      <td>Pocket lining: Cotton 100%</td>\n",
       "      <td>NaN</td>\n",
       "      <td>NaN</td>\n",
       "    </tr>\n",
       "    <tr>\n",
       "      <th>2</th>\n",
       "      <td>1024256006</td>\n",
       "      <td>men_jeans_slim</td>\n",
       "      <td>slim_jeans</td>\n",
       "      <td>24.99</td>\n",
       "      <td>2023-05-25 13:05:08:</td>\n",
       "      <td>1024256</td>\n",
       "      <td>6</td>\n",
       "      <td>black</td>\n",
       "      <td>slim_fit</td>\n",
       "      <td>Pocket lining: Cotton 100%</td>\n",
       "      <td>NaN</td>\n",
       "      <td>NaN</td>\n",
       "    </tr>\n",
       "    <tr>\n",
       "      <th>3</th>\n",
       "      <td>1024256006</td>\n",
       "      <td>men_jeans_slim</td>\n",
       "      <td>slim_jeans</td>\n",
       "      <td>24.99</td>\n",
       "      <td>2023-05-25 13:05:08:</td>\n",
       "      <td>1024256</td>\n",
       "      <td>6</td>\n",
       "      <td>black</td>\n",
       "      <td>slim_fit</td>\n",
       "      <td>Pocket lining: Cotton 100%</td>\n",
       "      <td>NaN</td>\n",
       "      <td>NaN</td>\n",
       "    </tr>\n",
       "    <tr>\n",
       "      <th>4</th>\n",
       "      <td>1024256006</td>\n",
       "      <td>men_jeans_slim</td>\n",
       "      <td>slim_jeans</td>\n",
       "      <td>24.99</td>\n",
       "      <td>2023-05-25 13:05:08:</td>\n",
       "      <td>1024256</td>\n",
       "      <td>6</td>\n",
       "      <td>black</td>\n",
       "      <td>slim_fit</td>\n",
       "      <td>Pocket lining: Cotton 100%</td>\n",
       "      <td>NaN</td>\n",
       "      <td>NaN</td>\n",
       "    </tr>\n",
       "    <tr>\n",
       "      <th>...</th>\n",
       "      <td>...</td>\n",
       "      <td>...</td>\n",
       "      <td>...</td>\n",
       "      <td>...</td>\n",
       "      <td>...</td>\n",
       "      <td>...</td>\n",
       "      <td>...</td>\n",
       "      <td>...</td>\n",
       "      <td>...</td>\n",
       "      <td>...</td>\n",
       "      <td>...</td>\n",
       "      <td>...</td>\n",
       "    </tr>\n",
       "    <tr>\n",
       "      <th>8894</th>\n",
       "      <td>1166422005</td>\n",
       "      <td>men_jeans_tapered</td>\n",
       "      <td>tapered_regular_crop_jeans</td>\n",
       "      <td>34.99</td>\n",
       "      <td>2023-05-25 13:05:08:</td>\n",
       "      <td>1166422</td>\n",
       "      <td>5</td>\n",
       "      <td>denim_gray</td>\n",
       "      <td>regular_fit</td>\n",
       "      <td>Pocket lining: Polyester 65%, Cotton 35%</td>\n",
       "      <td>67</td>\n",
       "      <td>NaN</td>\n",
       "    </tr>\n",
       "    <tr>\n",
       "      <th>8895</th>\n",
       "      <td>1166422005</td>\n",
       "      <td>men_jeans_tapered</td>\n",
       "      <td>tapered_regular_crop_jeans</td>\n",
       "      <td>34.99</td>\n",
       "      <td>2023-05-25 13:05:08:</td>\n",
       "      <td>1166422</td>\n",
       "      <td>5</td>\n",
       "      <td>denim_gray</td>\n",
       "      <td>regular_fit</td>\n",
       "      <td>Pocket lining: Polyester 65%, Cotton 35%</td>\n",
       "      <td>67</td>\n",
       "      <td>NaN</td>\n",
       "    </tr>\n",
       "    <tr>\n",
       "      <th>8896</th>\n",
       "      <td>1166422005</td>\n",
       "      <td>men_jeans_tapered</td>\n",
       "      <td>tapered_regular_crop_jeans</td>\n",
       "      <td>34.99</td>\n",
       "      <td>2023-05-25 13:05:08:</td>\n",
       "      <td>1166422</td>\n",
       "      <td>5</td>\n",
       "      <td>denim_gray</td>\n",
       "      <td>regular_fit</td>\n",
       "      <td>Pocket lining: Polyester 65%, Cotton 35%</td>\n",
       "      <td>67</td>\n",
       "      <td>NaN</td>\n",
       "    </tr>\n",
       "    <tr>\n",
       "      <th>8897</th>\n",
       "      <td>1166422005</td>\n",
       "      <td>men_jeans_tapered</td>\n",
       "      <td>tapered_regular_crop_jeans</td>\n",
       "      <td>34.99</td>\n",
       "      <td>2023-05-25 13:05:08:</td>\n",
       "      <td>1166422</td>\n",
       "      <td>5</td>\n",
       "      <td>denim_gray</td>\n",
       "      <td>regular_fit</td>\n",
       "      <td>Pocket lining: Polyester 65%, Cotton 35%</td>\n",
       "      <td>67</td>\n",
       "      <td>NaN</td>\n",
       "    </tr>\n",
       "    <tr>\n",
       "      <th>8898</th>\n",
       "      <td>1166422005</td>\n",
       "      <td>men_jeans_tapered</td>\n",
       "      <td>tapered_regular_crop_jeans</td>\n",
       "      <td>34.99</td>\n",
       "      <td>2023-05-25 13:05:08:</td>\n",
       "      <td>1166422</td>\n",
       "      <td>5</td>\n",
       "      <td>denim_gray</td>\n",
       "      <td>regular_fit</td>\n",
       "      <td>Pocket lining: Polyester 65%, Cotton 35%</td>\n",
       "      <td>67</td>\n",
       "      <td>NaN</td>\n",
       "    </tr>\n",
       "  </tbody>\n",
       "</table>\n",
       "<p>8899 rows × 12 columns</p>\n",
       "</div>"
      ],
      "text/plain": [
       "      product_id   product_category                product_name   \n",
       "0     1024256006     men_jeans_slim                  slim_jeans  \\\n",
       "1     1024256006     men_jeans_slim                  slim_jeans   \n",
       "2     1024256006     men_jeans_slim                  slim_jeans   \n",
       "3     1024256006     men_jeans_slim                  slim_jeans   \n",
       "4     1024256006     men_jeans_slim                  slim_jeans   \n",
       "...          ...                ...                         ...   \n",
       "8894  1166422005  men_jeans_tapered  tapered_regular_crop_jeans   \n",
       "8895  1166422005  men_jeans_tapered  tapered_regular_crop_jeans   \n",
       "8896  1166422005  men_jeans_tapered  tapered_regular_crop_jeans   \n",
       "8897  1166422005  men_jeans_tapered  tapered_regular_crop_jeans   \n",
       "8898  1166422005  men_jeans_tapered  tapered_regular_crop_jeans   \n",
       "\n",
       "      product_price       scrapy_datetime  style_id  color_id  color_name   \n",
       "0             24.99  2023-05-25 13:05:08:   1024256         6       black  \\\n",
       "1             24.99  2023-05-25 13:05:08:   1024256         6       black   \n",
       "2             24.99  2023-05-25 13:05:08:   1024256         6       black   \n",
       "3             24.99  2023-05-25 13:05:08:   1024256         6       black   \n",
       "4             24.99  2023-05-25 13:05:08:   1024256         6       black   \n",
       "...             ...                   ...       ...       ...         ...   \n",
       "8894          34.99  2023-05-25 13:05:08:   1166422         5  denim_gray   \n",
       "8895          34.99  2023-05-25 13:05:08:   1166422         5  denim_gray   \n",
       "8896          34.99  2023-05-25 13:05:08:   1166422         5  denim_gray   \n",
       "8897          34.99  2023-05-25 13:05:08:   1166422         5  denim_gray   \n",
       "8898          34.99  2023-05-25 13:05:08:   1166422         5  denim_gray   \n",
       "\n",
       "              Fit                               Composition size_number   \n",
       "0        slim_fit             Shell: Cotton 99%, Spandex 1%         NaN  \\\n",
       "1        slim_fit                Pocket lining: Cotton 100%         NaN   \n",
       "2        slim_fit                Pocket lining: Cotton 100%         NaN   \n",
       "3        slim_fit                Pocket lining: Cotton 100%         NaN   \n",
       "4        slim_fit                Pocket lining: Cotton 100%         NaN   \n",
       "...           ...                                       ...         ...   \n",
       "8894  regular_fit  Pocket lining: Polyester 65%, Cotton 35%          67   \n",
       "8895  regular_fit  Pocket lining: Polyester 65%, Cotton 35%          67   \n",
       "8896  regular_fit  Pocket lining: Polyester 65%, Cotton 35%          67   \n",
       "8897  regular_fit  Pocket lining: Polyester 65%, Cotton 35%          67   \n",
       "8898  regular_fit  Pocket lining: Polyester 65%, Cotton 35%          67   \n",
       "\n",
       "     size_model  \n",
       "0           NaN  \n",
       "1           NaN  \n",
       "2           NaN  \n",
       "3           NaN  \n",
       "4           NaN  \n",
       "...         ...  \n",
       "8894        NaN  \n",
       "8895        NaN  \n",
       "8896        NaN  \n",
       "8897        NaN  \n",
       "8898        NaN  \n",
       "\n",
       "[8899 rows x 12 columns]"
      ]
     },
     "execution_count": 18,
     "metadata": {},
     "output_type": "execute_result"
    }
   ],
   "source": [
    "df"
   ]
  },
  {
   "cell_type": "code",
   "execution_count": null,
   "id": "418fa675",
   "metadata": {},
   "outputs": [],
   "source": []
  }
 ],
 "metadata": {
  "kernelspec": {
   "display_name": "Python 3 (ipykernel)",
   "language": "python",
   "name": "python3"
  },
  "language_info": {
   "codemirror_mode": {
    "name": "ipython",
    "version": 3
   },
   "file_extension": ".py",
   "mimetype": "text/x-python",
   "name": "python",
   "nbconvert_exporter": "python",
   "pygments_lexer": "ipython3",
   "version": "3.10.9"
  },
  "toc": {
   "base_numbering": 1,
   "nav_menu": {},
   "number_sections": true,
   "sideBar": true,
   "skip_h1_title": false,
   "title_cell": "Table of Contents",
   "title_sidebar": "Contents",
   "toc_cell": false,
   "toc_position": {},
   "toc_section_display": true,
   "toc_window_display": false
  },
  "varInspector": {
   "cols": {
    "lenName": 16,
    "lenType": 16,
    "lenVar": 40
   },
   "kernels_config": {
    "python": {
     "delete_cmd_postfix": "",
     "delete_cmd_prefix": "del ",
     "library": "var_list.py",
     "varRefreshCmd": "print(var_dic_list())"
    },
    "r": {
     "delete_cmd_postfix": ") ",
     "delete_cmd_prefix": "rm(",
     "library": "var_list.r",
     "varRefreshCmd": "cat(var_dic_list()) "
    }
   },
   "types_to_exclude": [
    "module",
    "function",
    "builtin_function_or_method",
    "instance",
    "_Feature"
   ],
   "window_display": false
  }
 },
 "nbformat": 4,
 "nbformat_minor": 5
}
